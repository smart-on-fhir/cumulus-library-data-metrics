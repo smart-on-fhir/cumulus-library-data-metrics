{
 "cells": [
  {
   "cell_type": "code",
   "execution_count": 1,
   "metadata": {},
   "outputs": [
    {
     "name": "stdout",
     "output_type": "stream",
     "text": [
      "\u001b[33mDEPRECATION: Configuring installation scheme with distutils config files is deprecated and will no longer work in the near future. If you are using a Homebrew or Linuxbrew Python, please see discussion at https://github.com/Homebrew/homebrew-core/issues/76621\u001b[0m\u001b[33m\n",
      "\u001b[0mCollecting duckdb===0.9.2\n",
      "  Downloading duckdb-0.9.2-cp39-cp39-macosx_10_9_x86_64.whl (15.3 MB)\n",
      "\u001b[2K     \u001b[90m━━━━━━━━━━━━━━━━━━━━━━━━━━━━━━━━━━━━━━━━\u001b[0m \u001b[32m15.3/15.3 MB\u001b[0m \u001b[31m5.6 MB/s\u001b[0m eta \u001b[36m0:00:00\u001b[0m00:01\u001b[0m00:01\u001b[0m\n",
      "\u001b[?25hInstalling collected packages: duckdb\n",
      "  Attempting uninstall: duckdb\n",
      "    Found existing installation: duckdb 0.10.1\n",
      "    Uninstalling duckdb-0.10.1:\n",
      "      Successfully uninstalled duckdb-0.10.1\n",
      "\u001b[33m  DEPRECATION: Configuring installation scheme with distutils config files is deprecated and will no longer work in the near future. If you are using a Homebrew or Linuxbrew Python, please see discussion at https://github.com/Homebrew/homebrew-core/issues/76621\u001b[0m\u001b[33m\n",
      "\u001b[0m\u001b[33mDEPRECATION: Configuring installation scheme with distutils config files is deprecated and will no longer work in the near future. If you are using a Homebrew or Linuxbrew Python, please see discussion at https://github.com/Homebrew/homebrew-core/issues/76621\u001b[0m\u001b[33m\n",
      "\u001b[0mSuccessfully installed duckdb-0.9.2\n",
      "\n",
      "\u001b[1m[\u001b[0m\u001b[34;49mnotice\u001b[0m\u001b[1;39;49m]\u001b[0m\u001b[39;49m A new release of pip available: \u001b[0m\u001b[31;49m22.1.2\u001b[0m\u001b[39;49m -> \u001b[0m\u001b[32;49m24.0\u001b[0m\n",
      "\u001b[1m[\u001b[0m\u001b[34;49mnotice\u001b[0m\u001b[1;39;49m]\u001b[0m\u001b[39;49m To update, run: \u001b[0m\u001b[32;49mpython3.9 -m pip install --upgrade pip\u001b[0m\n",
      "Note: you may need to restart the kernel to use updated packages.\n"
     ]
    }
   ],
   "source": [
    "%pip install duckdb===0.9.2"
   ]
  },
  {
   "cell_type": "code",
   "execution_count": 10,
   "metadata": {},
   "outputs": [
    {
     "data": {
      "text/plain": [
       "[('v0.9.2',)]"
      ]
     },
     "execution_count": 10,
     "metadata": {},
     "output_type": "execute_result"
    }
   ],
   "source": [
    "import duckdb\n",
    "con = duckdb.connect(database='./src/data/output-tables.db')\n",
    "con.execute('SELECT version()').fetchall()"
   ]
  },
  {
   "cell_type": "code",
   "execution_count": 7,
   "metadata": {},
   "outputs": [
    {
     "data": {
      "text/html": [
       "<div>\n",
       "<style scoped>\n",
       "    .dataframe tbody tr th:only-of-type {\n",
       "        vertical-align: middle;\n",
       "    }\n",
       "\n",
       "    .dataframe tbody tr th {\n",
       "        vertical-align: top;\n",
       "    }\n",
       "\n",
       "    .dataframe thead th {\n",
       "        text-align: right;\n",
       "    }\n",
       "</style>\n",
       "<table border=\"1\" class=\"dataframe\">\n",
       "  <thead>\n",
       "    <tr style=\"text-align: right;\">\n",
       "      <th></th>\n",
       "      <th>Count</th>\n",
       "    </tr>\n",
       "  </thead>\n",
       "  <tbody>\n",
       "    <tr>\n",
       "      <th>0</th>\n",
       "      <td>1</td>\n",
       "    </tr>\n",
       "  </tbody>\n",
       "</table>\n",
       "</div>"
      ],
      "text/plain": [
       "   Count\n",
       "0      1"
      ]
     },
     "execution_count": 7,
     "metadata": {},
     "output_type": "execute_result"
    }
   ],
   "source": [
    "con.execute('''\n",
    "INSERT INTO data_metrics__count_c_pt_count\n",
    "VALUES (20, '1982', 'unknown', 'cumulus__none', 'cumulus__none', 'cumulus__none')\n",
    "''').df()"
   ]
  },
  {
   "cell_type": "code",
   "execution_count": 18,
   "metadata": {},
   "outputs": [
    {
     "data": {
      "text/html": [
       "<div>\n",
       "<style scoped>\n",
       "    .dataframe tbody tr th:only-of-type {\n",
       "        vertical-align: middle;\n",
       "    }\n",
       "\n",
       "    .dataframe tbody tr th {\n",
       "        vertical-align: top;\n",
       "    }\n",
       "\n",
       "    .dataframe thead th {\n",
       "        text-align: right;\n",
       "    }\n",
       "</style>\n",
       "<table border=\"1\" class=\"dataframe\">\n",
       "  <thead>\n",
       "    <tr style=\"text-align: right;\">\n",
       "      <th></th>\n",
       "      <th>cnt</th>\n",
       "      <th>category</th>\n",
       "      <th>year</th>\n",
       "      <th>status</th>\n",
       "      <th>type</th>\n",
       "    </tr>\n",
       "  </thead>\n",
       "  <tbody>\n",
       "    <tr>\n",
       "      <th>0</th>\n",
       "      <td>21</td>\n",
       "      <td>None</td>\n",
       "      <td>1993</td>\n",
       "      <td>finished</td>\n",
       "      <td>162673000</td>\n",
       "    </tr>\n",
       "    <tr>\n",
       "      <th>1</th>\n",
       "      <td>52</td>\n",
       "      <td>None</td>\n",
       "      <td>2012</td>\n",
       "      <td>finished</td>\n",
       "      <td>162673000</td>\n",
       "    </tr>\n",
       "    <tr>\n",
       "      <th>2</th>\n",
       "      <td>9</td>\n",
       "      <td>None</td>\n",
       "      <td>2014</td>\n",
       "      <td>finished</td>\n",
       "      <td>424619006</td>\n",
       "    </tr>\n",
       "    <tr>\n",
       "      <th>3</th>\n",
       "      <td>31</td>\n",
       "      <td>None</td>\n",
       "      <td>2011</td>\n",
       "      <td>finished</td>\n",
       "      <td>185345009</td>\n",
       "    </tr>\n",
       "    <tr>\n",
       "      <th>4</th>\n",
       "      <td>9</td>\n",
       "      <td>None</td>\n",
       "      <td>1990</td>\n",
       "      <td>finished</td>\n",
       "      <td>185349003</td>\n",
       "    </tr>\n",
       "    <tr>\n",
       "      <th>...</th>\n",
       "      <td>...</td>\n",
       "      <td>...</td>\n",
       "      <td>...</td>\n",
       "      <td>...</td>\n",
       "      <td>...</td>\n",
       "    </tr>\n",
       "    <tr>\n",
       "      <th>1220</th>\n",
       "      <td>6</td>\n",
       "      <td>cumulus__none</td>\n",
       "      <td>1997</td>\n",
       "      <td>active</td>\n",
       "      <td>None</td>\n",
       "    </tr>\n",
       "    <tr>\n",
       "      <th>1221</th>\n",
       "      <td>1</td>\n",
       "      <td>cumulus__none</td>\n",
       "      <td>1939</td>\n",
       "      <td>active</td>\n",
       "      <td>None</td>\n",
       "    </tr>\n",
       "    <tr>\n",
       "      <th>1222</th>\n",
       "      <td>39</td>\n",
       "      <td>cumulus__none</td>\n",
       "      <td>2002</td>\n",
       "      <td>stopped</td>\n",
       "      <td>None</td>\n",
       "    </tr>\n",
       "    <tr>\n",
       "      <th>1223</th>\n",
       "      <td>1</td>\n",
       "      <td>food</td>\n",
       "      <td>1991</td>\n",
       "      <td>confirmed</td>\n",
       "      <td>None</td>\n",
       "    </tr>\n",
       "    <tr>\n",
       "      <th>1224</th>\n",
       "      <td>3</td>\n",
       "      <td>None</td>\n",
       "      <td>2006</td>\n",
       "      <td>completed</td>\n",
       "      <td>None</td>\n",
       "    </tr>\n",
       "  </tbody>\n",
       "</table>\n",
       "<p>1225 rows × 5 columns</p>\n",
       "</div>"
      ],
      "text/plain": [
       "      cnt       category  year     status       type\n",
       "0      21           None  1993   finished  162673000\n",
       "1      52           None  2012   finished  162673000\n",
       "2       9           None  2014   finished  424619006\n",
       "3      31           None  2011   finished  185345009\n",
       "4       9           None  1990   finished  185349003\n",
       "...   ...            ...   ...        ...        ...\n",
       "1220    6  cumulus__none  1997     active       None\n",
       "1221    1  cumulus__none  1939     active       None\n",
       "1222   39  cumulus__none  2002    stopped       None\n",
       "1223    1           food  1991  confirmed       None\n",
       "1224    3           None  2006  completed       None\n",
       "\n",
       "[1225 rows x 5 columns]"
      ]
     },
     "execution_count": 18,
     "metadata": {},
     "output_type": "execute_result"
    }
   ],
   "source": [
    "con.execute('''\n",
    "SELECT * FROM \"data_metrics__count_c_resource_count_allergyintolerance_year\" UNION BY NAME SELECT * FROM \"data_metrics__count_c_resource_count_diagnosticreport_year\" UNION BY NAME SELECT * FROM \"data_metrics__count_c_resource_count_documentreference_year\" UNION BY NAME SELECT * FROM \"data_metrics__count_c_resource_count_immunization_year\" UNION BY NAME SELECT * FROM \"data_metrics__count_c_resource_count_medicationrequest_year\" UNION BY NAME SELECT * FROM \"data_metrics__count_c_resource_count_observation_year\" UNION BY NAME SELECT * FROM \"data_metrics__count_c_resource_count_procedure_year\" UNION BY NAME SELECT * FROM \"data_metrics__count_c_resource_count_condition_year\" UNION BY NAME SELECT * FROM \"data_metrics__count_c_resource_count_encounter_year\" UNION BY NAME SELECT * FROM \"data_metrics__count_c_resource_count_medication_all\" UNION BY NAME SELECT * FROM \"data_metrics__count_c_resource_count_patient_all\" UNION BY NAME SELECT * FROM \"data_metrics__count_c_resource_count_device_all\"\n",
    "''').df()"
   ]
  },
  {
   "cell_type": "code",
   "execution_count": 8,
   "metadata": {},
   "outputs": [],
   "source": [
    "con.close()"
   ]
  },
  {
   "cell_type": "code",
   "execution_count": null,
   "metadata": {},
   "outputs": [],
   "source": []
  }
 ],
 "metadata": {
  "kernelspec": {
   "display_name": "Python 3",
   "language": "python",
   "name": "python3"
  },
  "language_info": {
   "codemirror_mode": {
    "name": "ipython",
    "version": 3
   },
   "file_extension": ".py",
   "mimetype": "text/x-python",
   "name": "python",
   "nbconvert_exporter": "python",
   "pygments_lexer": "ipython3",
   "version": "3.9.13"
  }
 },
 "nbformat": 4,
 "nbformat_minor": 2
}
